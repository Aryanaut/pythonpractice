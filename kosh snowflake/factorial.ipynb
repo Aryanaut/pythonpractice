{
 "cells": [
  {
   "cell_type": "code",
   "execution_count": 2,
   "id": "ignored-count",
   "metadata": {},
   "outputs": [],
   "source": [
    "## FACTORIALS"
   ]
  },
  {
   "cell_type": "code",
   "execution_count": 16,
   "id": "stopped-method",
   "metadata": {},
   "outputs": [],
   "source": [
    "def f(num):\n",
    "    if num == 1:\n",
    "        return num\n",
    "    else:\n",
    "        return f(num-1) * num\n",
    "        \n",
    "def main():\n",
    "    n = int(input())\n",
    "    out = f(n)\n",
    "    print(out)"
   ]
  },
  {
   "cell_type": "code",
   "execution_count": 17,
   "id": "objective-sewing",
   "metadata": {},
   "outputs": [
    {
     "name": "stdout",
     "output_type": "stream",
     "text": [
      "4\n",
      "24\n"
     ]
    }
   ],
   "source": [
    "main()"
   ]
  }
 ],
 "metadata": {
  "kernelspec": {
   "display_name": "Python 3",
   "language": "python",
   "name": "python3"
  },
  "language_info": {
   "codemirror_mode": {
    "name": "ipython",
    "version": 3
   },
   "file_extension": ".py",
   "mimetype": "text/x-python",
   "name": "python",
   "nbconvert_exporter": "python",
   "pygments_lexer": "ipython3",
   "version": "3.6.8"
  }
 },
 "nbformat": 4,
 "nbformat_minor": 5
}
